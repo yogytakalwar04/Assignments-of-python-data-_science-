{
 "cells": [
  {
   "cell_type": "markdown",
   "id": "3acbb900",
   "metadata": {},
   "source": [
    "# Ques 1. Write a function that asks for an integer and prints the square of it.Use a While loop with a try except,else block to accountfor incorrect ."
   ]
  },
  {
   "cell_type": "code",
   "execution_count": 1,
   "id": "01b08237",
   "metadata": {},
   "outputs": [],
   "source": [
    "def square():\n",
    "    for i in range(5):\n",
    "        try:\n",
    "            n=int(input(\"please give me an integer\"))\n",
    "        except Exception as e:\n",
    "            print(e)\n",
    "        else:\n",
    "            return(n**2)\n",
    "            print(\"there is no problem with code\")\n",
    "        finally:\n",
    "            print(\"this block will execute no matter\")\n",
    "    print(n)        "
   ]
  },
  {
   "cell_type": "code",
   "execution_count": 6,
   "id": "90770139",
   "metadata": {},
   "outputs": [
    {
     "name": "stdout",
     "output_type": "stream",
     "text": [
      "please give me an integerart\n",
      "invalid literal for int() with base 10: 'art'\n",
      "this block will execute no matter\n",
      "please give me an integer6\n",
      "this block will execute no matter\n"
     ]
    },
    {
     "data": {
      "text/plain": [
       "36"
      ]
     },
     "execution_count": 6,
     "metadata": {},
     "output_type": "execute_result"
    }
   ],
   "source": [
    "square()"
   ]
  },
  {
   "cell_type": "markdown",
   "id": "f242edc3",
   "metadata": {},
   "source": [
    "# Ques 2. Write a function to compute 8/0 and use try/except to catch the exceptions."
   ]
  },
  {
   "cell_type": "code",
   "execution_count": 8,
   "id": "6b544801",
   "metadata": {},
   "outputs": [],
   "source": [
    "def compute():\n",
    "    try:\n",
    "        a=int(input(\"Enter the number\"))\n",
    "        b=8/a\n",
    "        print(b)\n",
    "    except Exception as e:\n",
    "            print(e)\n",
    "    else:\n",
    "            print(\"there is no problem with code\")\n",
    "    finally:\n",
    "            print(\"this block will execute no matter\")"
   ]
  },
  {
   "cell_type": "code",
   "execution_count": 9,
   "id": "5019c605",
   "metadata": {},
   "outputs": [
    {
     "name": "stdout",
     "output_type": "stream",
     "text": [
      "Enter the number0\n",
      "division by zero\n",
      "this block will execute no matter\n"
     ]
    }
   ],
   "source": [
    "compute()"
   ]
  },
  {
   "cell_type": "markdown",
   "id": "787847ee",
   "metadata": {},
   "source": [
    "# Ques 3. Write a python program that accepts a string and calculate the number of digit and letters."
   ]
  },
  {
   "cell_type": "code",
   "execution_count": 10,
   "id": "aa7f8085",
   "metadata": {},
   "outputs": [],
   "source": [
    "def calculate(str):\n",
    "    tot=0\n",
    "    dig=0\n",
    "    for i in str:\n",
    "        if i.isdigit():\n",
    "            dig=dig+1\n",
    "        else:\n",
    "            tot=tot+1\n",
    "    print(\"digit\",dig) \n",
    "    print(\"letter\",tot)"
   ]
  },
  {
   "cell_type": "code",
   "execution_count": 11,
   "id": "4d8a3a76",
   "metadata": {},
   "outputs": [
    {
     "name": "stdout",
     "output_type": "stream",
     "text": [
      "digit 5\n",
      "letter 10\n"
     ]
    }
   ],
   "source": [
    "calculate(\"arya12345ashika\")"
   ]
  },
  {
   "cell_type": "markdown",
   "id": "0f72ad32",
   "metadata": {},
   "source": [
    "# Ques4. You are given a string.your task is to count the of letters of the string and print the letters in descendng order of frequency."
   ]
  },
  {
   "cell_type": "code",
   "execution_count": 24,
   "id": "157605d9",
   "metadata": {},
   "outputs": [],
   "source": [
    "def fre(n):\n",
    "    res={}\n",
    "    for i in n:\n",
    "        res[i]=res.get(i,0)+1\n",
    "    print(\"count of all character\\n\"+str(res))\n",
    "    res_descending=sorted(res.items(),key=lambda x:x[1],reverse=True)\n",
    "    for i in res_descending:\n",
    "        print(i[0],i[1],end='')"
   ]
  },
  {
   "cell_type": "code",
   "execution_count": 26,
   "id": "f49b6506",
   "metadata": {},
   "outputs": [
    {
     "name": "stdout",
     "output_type": "stream",
     "text": [
      "count of all character\n",
      "{'a': 5, 'r': 3, 'b': 3, 's': 4}\n",
      "a 5s 4r 3b 3"
     ]
    }
   ],
   "source": [
    "fre(\"aaaaarrrbbbssss\")"
   ]
  },
  {
   "cell_type": "markdown",
   "id": "3f8baf61",
   "metadata": {},
   "source": [
    "# Ques5.you are required to write a program to sort the(name,age,score)tuples by ascending order where name is string ,age,and score are numbers.The tuples are input by console.the sort criteria is:"
   ]
  },
  {
   "cell_type": "code",
   "execution_count": 29,
   "id": "43ac993c",
   "metadata": {},
   "outputs": [],
   "source": [
    "def tuples(s):\n",
    "    return(sorted(s,key=lambda x:x[0]))\n"
   ]
  },
  {
   "cell_type": "code",
   "execution_count": 31,
   "id": "2414c7dd",
   "metadata": {},
   "outputs": [
    {
     "name": "stdout",
     "output_type": "stream",
     "text": [
      "[('Tom', 19, 80), ('john', 20, 90), ('jony', 17, 91), ('jony', 17, 93), ('json', 21, 85)]\n"
     ]
    }
   ],
   "source": [
    "s=[(\"Tom\",19,80),(\"john\",20,90),(\"jony\",17,91),(\"jony\",17,93),(\"json\",21,85)]\n",
    "print(tuples(s))"
   ]
  },
  {
   "cell_type": "code",
   "execution_count": null,
   "id": "246ebec8",
   "metadata": {},
   "outputs": [],
   "source": []
  }
 ],
 "metadata": {
  "kernelspec": {
   "display_name": "Python 3",
   "language": "python",
   "name": "python3"
  },
  "language_info": {
   "codemirror_mode": {
    "name": "ipython",
    "version": 3
   },
   "file_extension": ".py",
   "mimetype": "text/x-python",
   "name": "python",
   "nbconvert_exporter": "python",
   "pygments_lexer": "ipython3",
   "version": "3.8.8"
  }
 },
 "nbformat": 4,
 "nbformat_minor": 5
}
