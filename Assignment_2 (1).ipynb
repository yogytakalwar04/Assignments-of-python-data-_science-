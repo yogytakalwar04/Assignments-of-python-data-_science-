{
 "cells": [
  {
   "cell_type": "code",
   "execution_count": 11,
   "id": "c2af2007",
   "metadata": {},
   "outputs": [
    {
     "name": "stdout",
     "output_type": "stream",
     "text": [
      "enter the list value: what you want to enter?6\n",
      "enter lists 1\n",
      "1\n",
      "enter lists 2\n",
      "2\n",
      "enter lists 3\n",
      "3\n",
      "enter lists 4\n",
      "4\n",
      "enter lists 5\n",
      "1\n",
      "enter lists 6\n",
      "2\n",
      "LISTS  WITHOUT DUPLICATES VALUE: \n",
      "1\n",
      "4\n",
      "3\n",
      "2\n"
     ]
    }
   ],
   "source": [
    "lists = []\n",
    "n=int(input(\"enter the list value: what you want to enter?\"))\n",
    "for i in range(n):\n",
    "    print(\"enter lists\",i+1)\n",
    "    lists.append(input())\n",
    "s=set(lists)\n",
    "lists=list(s)\n",
    "print(\"LISTS  WITHOUT DUPLICATES VALUE: \")\n",
    "for x in lists:\n",
    "    print(x)"
   ]
  },
  {
   "cell_type": "code",
   "execution_count": 35,
   "id": "8fa27cd8",
   "metadata": {},
   "outputs": [
    {
     "name": "stdout",
     "output_type": "stream",
     "text": [
      "no of elements: 1\n",
      "enter key: name\n",
      "enter values: kalwar\n",
      "{'name': 'kalwar'}\n",
      "no of elements for dictionary 2: 1\n",
      "enter key: name\n",
      "enter values: yogyta\n",
      "{'name': 'yogyta'}\n",
      "After adding dictionary values\n",
      "{'name': 'yogytakalwar'}\n"
     ]
    }
   ],
   "source": [
    "dict1 = {}\n",
    "n=int(input(\"no of elements: \"))\n",
    "\n",
    "for i in range(n):\n",
    "    k=input(\"enter key: \")\n",
    "    v=input(\"enter values: \")\n",
    "    dict1.update({k:v})\n",
    "    print(dict1)\n",
    "    \n",
    "dict2 = {}\n",
    "m=int(input(\"no of elements for dictionary 2: \"))\n",
    "\n",
    "for i in range(m):\n",
    "    k=input(\"enter key: \")\n",
    "    v=input(\"enter values: \")\n",
    "    dict2.update({k:v})\n",
    "    print(dict2)\n",
    "    for key in dict2:\n",
    "        if key in dict1:\n",
    "            dict2[key] = dict2[key] + dict1[key]\n",
    "        else:\n",
    "             pass\n",
    "print(\"After adding dictionary values\" )          \n",
    "print(dict2)\n",
    "    \n",
    "    \n"
   ]
  },
  {
   "cell_type": "code",
   "execution_count": 46,
   "id": "f92f88fb",
   "metadata": {},
   "outputs": [
    {
     "name": "stdout",
     "output_type": "stream",
     "text": [
      "python\n"
     ]
    }
   ],
   "source": [
    "tuple1 = ('p', 'y', 't', 'h', 'o', 'n')\n",
    "\n",
    "str = ''\n",
    "\n",
    "for item in tuple1:\n",
    "    str = str + item\n",
    "\n",
    "print(str)"
   ]
  },
  {
   "cell_type": "code",
   "execution_count": 48,
   "id": "da41f0db",
   "metadata": {},
   "outputs": [
    {
     "name": "stdout",
     "output_type": "stream",
     "text": [
      "Original set:\n",
      "{0, 1, 3, 4, 5}\n",
      "\n",
      "After removing the first element from the said set:\n",
      "{1, 3, 4, 5}\n"
     ]
    }
   ],
   "source": [
    "num_set = set([0, 1, 3, 4, 5])\n",
    "print(\"Original set:\")\n",
    "print(num_set)\n",
    "num_set.pop()\n",
    "print(\"\\nAfter removing the first element from the said set:\")\n",
    "print(num_set)"
   ]
  },
  {
   "cell_type": "code",
   "execution_count": 50,
   "id": "433de549",
   "metadata": {},
   "outputs": [
    {
     "name": "stdout",
     "output_type": "stream",
     "text": [
      "\n",
      "Original sets:\n",
      "{1, 2, 3, 4, 5}\n",
      "{1, 5, 6, 7, 8, 9}\n",
      "\n",
      "Symmetric difference of set1 - set2:\n",
      "{2, 3, 4, 6, 7, 8, 9}\n",
      "\n",
      "Symmetric difference of set2 - set1:\n",
      "{2, 3, 4, 6, 7, 8, 9}\n"
     ]
    }
   ],
   "source": [
    "set1 = set([1, 1, 2, 3, 4, 5])\n",
    "set2 = set([1, 5, 6, 7, 8, 9])\n",
    "print(\"\\nOriginal sets:\")\n",
    "print(set1)\n",
    "print(set2)\n",
    "r1 = set1.symmetric_difference(set2)\n",
    "print(\"\\nSymmetric difference of set1 - set2:\")\n",
    "print(r1)\n",
    "r2 = set2.symmetric_difference(set1)\n",
    "print(\"\\nSymmetric difference of set2 - set1:\")\n",
    "print(r2)"
   ]
  },
  {
   "cell_type": "code",
   "execution_count": 56,
   "id": "d82bcd8c",
   "metadata": {},
   "outputs": [
    {
     "name": "stdout",
     "output_type": "stream",
     "text": [
      "*\n",
      "*\n",
      "*\n",
      "*\n",
      "*\n"
     ]
    }
   ],
   "source": [
    "for i in range(1,6):\n",
    "        \n",
    "            print(\"*\")\n",
    "       "
   ]
  },
  {
   "cell_type": "code",
   "execution_count": 58,
   "id": "d718efd2",
   "metadata": {},
   "outputs": [
    {
     "name": "stdout",
     "output_type": "stream",
     "text": [
      "Fibonacci Series:  0 1 1 2 3 5 8 13 21 34 55 89 144 233 377 610 987 1597 2584 4181 6765 10946 17711 28657 46368 75025 121393 196418 317811 514229 832040 1346269 2178309 3524578 5702887 9227465 14930352 24157817 39088169 63245986 102334155 165580141 267914296 433494437 701408733 1134903170 1836311903 2971215073 4807526976 7778742049 "
     ]
    }
   ],
   "source": [
    "\n",
    "a = 0\n",
    "b = 1\n",
    "sum = 0\n",
    "count = 1\n",
    "print(\"Fibonacci Series: \", end = \" \")\n",
    "while(count <= 50):\n",
    "  print(sum, end = \" \")\n",
    "  count += 1\n",
    "  a = b\n",
    "  b = sum\n",
    "  sum = a + b"
   ]
  }
 ],
 "metadata": {
  "kernelspec": {
   "display_name": "Python 3",
   "language": "python",
   "name": "python3"
  },
  "language_info": {
   "codemirror_mode": {
    "name": "ipython",
    "version": 3
   },
   "file_extension": ".py",
   "mimetype": "text/x-python",
   "name": "python",
   "nbconvert_exporter": "python",
   "pygments_lexer": "ipython3",
   "version": "3.8.8"
  }
 },
 "nbformat": 4,
 "nbformat_minor": 5
}
