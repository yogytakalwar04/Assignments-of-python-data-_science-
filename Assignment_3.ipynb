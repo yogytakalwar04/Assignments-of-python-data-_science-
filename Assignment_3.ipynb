{
 "cells": [
  {
   "cell_type": "markdown",
   "id": "9647bda9",
   "metadata": {},
   "source": [
    "# write a python program function to find the maximum of three numbers . \n"
   ]
  },
  {
   "cell_type": "code",
   "execution_count": 5,
   "id": "da2f219f",
   "metadata": {},
   "outputs": [
    {
     "name": "stdout",
     "output_type": "stream",
     "text": [
      "Enter First number34\n",
      "Enter Second number56\n",
      "Enter Third number76\n",
      "largest no is:- 76\n"
     ]
    }
   ],
   "source": [
    "def maximum(a, b, c):\n",
    "  \n",
    "    if (a >= b) and (a >= c):\n",
    "        largest = a\n",
    "  \n",
    "    elif (b >= a) and (b >= c):\n",
    "        largest = b\n",
    "    else:\n",
    "        largest = c\n",
    "          \n",
    "    return largest\n",
    "a = int(input(\"Enter First number\"))\n",
    "b = int(input(\"Enter Second number\"))\n",
    "c = int(input(\"Enter Third number\"))\n",
    "\n",
    "print(\"largest no is:-\",maximum(a, b, c))"
   ]
  },
  {
   "cell_type": "markdown",
   "id": "c02a75c2",
   "metadata": {},
   "source": [
    "# write a python function to multiply all the numbers in a list."
   ]
  },
  {
   "cell_type": "code",
   "execution_count": 8,
   "id": "899b03dd",
   "metadata": {},
   "outputs": [
    {
     "name": "stdout",
     "output_type": "stream",
     "text": [
      "enter size::-2\n",
      "enter elements for first list:--\n",
      "2\n",
      "4\n",
      "8\n"
     ]
    }
   ],
   "source": [
    "def multiply(numbers):  \n",
    "    total = 1\n",
    "    for x in numbers:\n",
    "        total *= x  \n",
    "    return total \n",
    "\n",
    "a=list()\n",
    "s=int(input(\"enter size::-\"))\n",
    "print(\"enter elements for first list:--\")\n",
    "for i in range(int(s)):\n",
    "    A=int(input(\"\"))\n",
    "    a.append(A)\n",
    "\n",
    "list=[]\n",
    "\n",
    "print(multiply(a))\n"
   ]
  },
  {
   "cell_type": "markdown",
   "id": "fdebff8d",
   "metadata": {},
   "source": [
    "## write a python function to that accept a stringand calculate the number of uppercase and lowercase."
   ]
  },
  {
   "cell_type": "code",
   "execution_count": 7,
   "id": "ed3612dc",
   "metadata": {},
   "outputs": [
    {
     "name": "stdout",
     "output_type": "stream",
     "text": [
      "Enter any string: YOGYTA KALwar\n",
      "Lowercase characters: 3\n",
      "Uppercase characters: 9\n"
     ]
    }
   ],
   "source": [
    "str = input('Enter any string: ')\n",
    "\n",
    "upper, lower = 0, 0\n",
    "for i in str:\n",
    "    \n",
    "    if(i.islower()):\n",
    "        lower = lower + 1\n",
    "   \n",
    "    elif(i.isupper()):\n",
    "        upper = upper + 1\n",
    "\n",
    "print('Lowercase characters:',lower)\n",
    "\n",
    "print('Uppercase characters:',upper)"
   ]
  },
  {
   "cell_type": "markdown",
   "id": "29c5a907",
   "metadata": {},
   "source": [
    "# ##write a python function that checks whether a passed string is palindrome or not"
   ]
  },
  {
   "cell_type": "code",
   "execution_count": 13,
   "id": "60c29752",
   "metadata": {},
   "outputs": [
    {
     "name": "stdout",
     "output_type": "stream",
     "text": [
      "enter digits or string to check palindrome or not::-madam\n",
      "Yes it is palindrome\n"
     ]
    }
   ],
   "source": [
    "def palindrome(s):\n",
    "    return s == s[-1::-1]\n",
    " \n",
    " \n",
    "\n",
    "s =input(\"enter digits or string to check palindrome or not::-\")\n",
    "ans = palindrome(s)\n",
    " \n",
    "if ans:\n",
    "    print(\"Yes it is palindrome\")\n",
    "else:\n",
    "    print(\"No it is not a palindrome number\")"
   ]
  },
  {
   "cell_type": "markdown",
   "id": "0c4fb043",
   "metadata": {},
   "source": [
    "# write a python program to print the even numbersfrom a given list"
   ]
  },
  {
   "cell_type": "code",
   "execution_count": 15,
   "id": "21950627",
   "metadata": {},
   "outputs": [
    {
     "name": "stdout",
     "output_type": "stream",
     "text": [
      "10\n",
      "4\n",
      "66\n"
     ]
    }
   ],
   "source": [
    "list1 = [10, 21, 4, 45, 66, 93]\n",
    "  \n",
    "for num in list1:\n",
    "      \n",
    "\n",
    "    if num % 2 == 0:\n",
    "       print(num)"
   ]
  }
 ],
 "metadata": {
  "kernelspec": {
   "display_name": "Python 3",
   "language": "python",
   "name": "python3"
  },
  "language_info": {
   "codemirror_mode": {
    "name": "ipython",
    "version": 3
   },
   "file_extension": ".py",
   "mimetype": "text/x-python",
   "name": "python",
   "nbconvert_exporter": "python",
   "pygments_lexer": "ipython3",
   "version": "3.8.8"
  }
 },
 "nbformat": 4,
 "nbformat_minor": 5
}
